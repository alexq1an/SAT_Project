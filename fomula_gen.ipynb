{
 "cells": [
  {
   "cell_type": "code",
   "execution_count": 2,
   "metadata": {},
   "outputs": [],
   "source": [
    "import random\n",
    "\n",
    "num_vars = 1000\n",
    "num_clauses = 5000000\n",
    "solution = [random.choice([True, False]) for _ in range(num_vars)]\n",
    "\n",
    "def generate_clause():\n",
    "    clause = []\n",
    "    while len(clause) < random.randint(3, 5):  # Choosing clause length between 5 and 10\n",
    "        var = random.randint(1, num_vars)\n",
    "        if var not in clause and -var not in clause:  # Avoid duplicates and contradictions\n",
    "            # Add variable or its negation based on the predetermined solution\n",
    "            clause.append(var if solution[var-1] else -var)\n",
    "    clause.append(0)  # End of clause marker for DIMACS format\n",
    "    return clause\n",
    "\n",
    "with open(\"sat_problem.cnf\", \"w\") as file:\n",
    "    file.write(f\"p cnf {num_vars} {num_clauses}\\n\")\n",
    "    for _ in range(num_clauses):\n",
    "        file.write(\" \".join(map(str, generate_clause())) + \"\\n\")\n"
   ]
  }
 ],
 "metadata": {
  "kernelspec": {
   "display_name": "cmpt433",
   "language": "python",
   "name": "python3"
  },
  "language_info": {
   "codemirror_mode": {
    "name": "ipython",
    "version": 3
   },
   "file_extension": ".py",
   "mimetype": "text/x-python",
   "name": "python",
   "nbconvert_exporter": "python",
   "pygments_lexer": "ipython3",
   "version": "3.9.12"
  }
 },
 "nbformat": 4,
 "nbformat_minor": 2
}
